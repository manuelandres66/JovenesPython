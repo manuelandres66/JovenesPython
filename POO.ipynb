{
 "cells": [
  {
   "cell_type": "markdown",
   "metadata": {},
   "source": [
    "# Programación Orientada a Objetos\n",
    "\n",
    "### La Programacion Orientada a objetos es un paradigma de la programación, es decir una forma de programar, en donde no lo hacemos de manera sequencial como estamos a costumbrados si no mediante objetos con sus atributos y sus metodos\n"
   ]
  },
  {
   "cell_type": "code",
   "execution_count": 5,
   "metadata": {},
   "outputs": [],
   "source": [
    "class Galleta:\n",
    "    \n",
    "    def __init__(self, color, sabor, tiempo_de_cocion):\n",
    "        self.color = color\n",
    "        self.sabor = sabor\n",
    "        self.tiempo = tiempo_de_cocion\n",
    "        \n",
    "    def cambiar_color(self, nuevo_color):\n",
    "        self.color = nuevo_color\n",
    "        print(\"El color se ha cambiado a:\", self.color)\n",
    "        \n",
    "    def __str__(self):\n",
    "        cadena = \"Galleta con Color: \" + self.color +\" Sabor: \" + self.sabor + \" Tiempo: \" + str(self.tiempo)\n",
    "        return cadena"
   ]
  },
  {
   "cell_type": "code",
   "execution_count": 10,
   "metadata": {
    "tags": []
   },
   "outputs": [
    {
     "output_type": "stream",
     "name": "stdout",
     "text": "El color se ha cambiado a: Cafe Claro\nCafe Claro\n"
    }
   ],
   "source": [
    "galleta_de_chocolate = Galleta(\"Cafe Oscuro\", \"Chocalate\", 12)\n",
    "galleta_de_chocolate.cambiar_color(\"Cafe Claro\")\n",
    "print(galleta_de_chocolate.color)"
   ]
  },
  {
   "cell_type": "code",
   "execution_count": 50,
   "metadata": {},
   "outputs": [
    {
     "name": "stdout",
     "output_type": "stream",
     "text": [
      "Galleta con Color: Cafe Claro Sabor: Chocalate Tiempo: 12\n"
     ]
    }
   ],
   "source": [
    "galleta_de_chocolate.mostrar_galleta()"
   ]
  },
  {
   "cell_type": "code",
   "execution_count": 51,
   "metadata": {},
   "outputs": [
    {
     "name": "stdout",
     "output_type": "stream",
     "text": [
      "Galleta con Color: Rosada Sabor: Fresas Tiempo: 1\n"
     ]
    }
   ],
   "source": [
    "galleta_fresas = Galleta(\"Rosada\", \"Fresas\", 1)\n",
    "galleta_fresas.mostrar_galleta()"
   ]
  },
  {
   "cell_type": "code",
   "execution_count": 52,
   "metadata": {},
   "outputs": [],
   "source": [
    "class Empleados:\n",
    "    def __init__(self, nombre, puesto, titulo, edad, año_con_empresa):\n",
    "        self.nombre = nombre\n",
    "        self.puesto = puesto\n",
    "        self.titulo = titulo\n",
    "        self.ingreso = edad - año_con_empresa\n",
    "        print(\"Empleado creado\")\n",
    "    \n",
    "    def subir_de_puesto(self):\n",
    "        if self.puesto == \"Aseo\":\n",
    "            self.puesto = \"Tecnico\"\n",
    "        elif self.puesto == \"Tecnico\":\n",
    "            self.puesto = \"Administrador de equipos\"\n",
    "        else:\n",
    "            print(\"El puesto no es valida\")\n",
    "        print(\"Se ha subido de puesto\")"
   ]
  },
  {
   "cell_type": "code",
   "execution_count": 54,
   "metadata": {},
   "outputs": [
    {
     "name": "stdout",
     "output_type": "stream",
     "text": [
      "Empleado creado\n"
     ]
    }
   ],
   "source": [
    "Manuel = Empleados(\"Manuel Andres\", \"Aseo\", \"Estudiante\", 51, 10)"
   ]
  },
  {
   "cell_type": "code",
   "execution_count": 57,
   "metadata": {},
   "outputs": [
    {
     "name": "stdout",
     "output_type": "stream",
     "text": [
      "Se ha subido de puesto\n",
      "Tecnico\n"
     ]
    }
   ],
   "source": [
    "Manuel.subir_de_puesto()\n",
    "print(Manuel.puesto)"
   ]
  },
  {
   "cell_type": "markdown",
   "metadata": {},
   "source": [
    "# Materia\n",
    "### Atributos: Profesor, Un tema, Un Salon, Un promedio\n",
    "\n",
    "### Metodos: Cambiar profesor, cambiar el salon, ingresas un dato extra, mostrar toda la informacion"
   ]
  },
  {
   "cell_type": "code",
   "execution_count": 3,
   "metadata": {},
   "outputs": [],
   "source": [
    "class Materia:\n",
    "    def __init__(self, profesor, tema, salon, promedio):\n",
    "        self.profesor = profesor\n",
    "        self.tema = tema\n",
    "        self.salon = salon\n",
    "        self.promedio = promedio\n",
    "        self.datos_extra = []\n",
    "\n",
    "    def cambiar_profesor(self, profesor):\n",
    "        self.profesor = profesor\n",
    "    def cambiar_salon(self, salon):\n",
    "        self.salon = salon\n",
    "    def ingresar_extra(self, extra):\n",
    "        self.datos_extra.append(extra)\n",
    "\n",
    "    def __str__(self):\n",
    "        return f\"Profesor: {self.profesor}\\nTema: {self.tema}\\nSalon: {self.salon}\\nPromedio: {self.promedio}\\n\"\n"
   ]
  },
  {
   "cell_type": "code",
   "execution_count": 11,
   "metadata": {
    "tags": []
   },
   "outputs": [
    {
     "output_type": "stream",
     "name": "stdout",
     "text": "Profesor: Manuel\nTema: Numeros\nSalon: 8b\nPromedio: 10\n\nProfesor: Manuel\nTema: Numeros\nSalon: 9b\nPromedio: 10\n\n"
    }
   ],
   "source": [
    "matematicas = Materia(\"Manuel\", \"Numeros\", \"8b\", 10)\n",
    "print(matematicas)\n",
    "matematicas.cambiar_salon(\"9b\")\n",
    "print(matematicas)"
   ]
  },
  {
   "cell_type": "markdown",
   "metadata": {},
   "source": [
    "# Peliculas"
   ]
  },
  {
   "cell_type": "code",
   "execution_count": 13,
   "metadata": {},
   "outputs": [],
   "source": [
    "class Pelicula:\n",
    "    def __init__(self, Nombre, Duracion):\n",
    "        self.nombre = Nombre\n",
    "        self.duracion = Duracion"
   ]
  },
  {
   "cell_type": "code",
   "execution_count": 14,
   "metadata": {},
   "outputs": [
    {
     "output_type": "execute_result",
     "data": {
      "text/plain": "<__main__.Pelicula at 0x18a6dbcd348>"
     },
     "metadata": {},
     "execution_count": 14
    }
   ],
   "source": [
    "Pelicula(\"El Padrino\", 3)"
   ]
  },
  {
   "cell_type": "code",
   "execution_count": 15,
   "metadata": {},
   "outputs": [],
   "source": [
    "class Organizar:\n",
    "    def __init__(self, nombre):\n",
    "        self.todas = []\n",
    "        self.nombre = nombre\n",
    "    def agregar(self, nombre_pelicula):\n",
    "        self.todas.append(nombre_pelicula)\n",
    "    def mostrar(self):\n",
    "        print(self.nombre, self.todas)"
   ]
  },
  {
   "cell_type": "code",
   "execution_count": 20,
   "metadata": {
    "tags": []
   },
   "outputs": [],
   "source": [
    "padrino_uno = Pelicula(\"El Padrino\", 3)\n",
    "padrino_dos = Pelicula(\"El Padrino II\", 3)\n",
    "padrino_tres = Pelicula(\"El Padrino III\", 2)\n",
    "\n",
    "peliculas_padrino = Organizar(\"Peliculas del Padrino\")"
   ]
  },
  {
   "cell_type": "code",
   "execution_count": 21,
   "metadata": {},
   "outputs": [],
   "source": [
    "peliculas_padrino.agregar(padrino_uno.nombre)\n",
    "peliculas_padrino.agregar(padrino_dos.nombre)\n",
    "peliculas_padrino.agregar(padrino_tres.nombre)"
   ]
  },
  {
   "cell_type": "code",
   "execution_count": 22,
   "metadata": {
    "tags": []
   },
   "outputs": [
    {
     "output_type": "stream",
     "name": "stdout",
     "text": "Peliculas del Padrino ['El Padrino', 'El Padrino II', 'El Padrino III']\n"
    }
   ],
   "source": [
    "peliculas_padrino.mostrar()"
   ]
  }
 ],
 "metadata": {
  "kernelspec": {
   "display_name": "Python 3",
   "language": "python",
   "name": "python3"
  },
  "language_info": {
   "codemirror_mode": {
    "name": "ipython",
    "version": 3
   },
   "file_extension": ".py",
   "mimetype": "text/x-python",
   "name": "python",
   "nbconvert_exporter": "python",
   "pygments_lexer": "ipython3",
   "version": "3.7.0-final"
  }
 },
 "nbformat": 4,
 "nbformat_minor": 4
}