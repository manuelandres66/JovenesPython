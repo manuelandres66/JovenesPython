{
 "cells": [
  {
   "cell_type": "code",
   "execution_count": 1,
   "metadata": {},
   "outputs": [],
   "source": [
    "import sqlite3"
   ]
  },
  {
   "cell_type": "code",
   "execution_count": 2,
   "metadata": {},
   "outputs": [],
   "source": [
    "conexion = sqlite3.connect(\"Ejemplo2.db\")\n",
    "cursor = conexion.cursor()\n",
    "cursor.execute(\"CREATE TABLE IF NOT EXISTS Ejemplo\"\\\n",
    "    \"(nombre VARCHAR(100), años INTEGER, nivel VARCHAR(100))\")\n",
    "conexion.commit()\n",
    "conexion.close()"
   ]
  },
  {
   "cell_type": "code",
   "execution_count": 12,
   "metadata": {},
   "outputs": [],
   "source": [
    "conexion = sqlite3.connect(\"Ejemplo2.db\")\n",
    "cursor = conexion.cursor()\n",
    "nombre = \"Juan\"\n",
    "años = \"21\"\n",
    "nivel = \"Intermedio\"\n",
    "cursor.execute(\"INSERT INTO Ejemplo VALUES ('{}', {}, '{}')\".format(nombre, años, nivel))\n",
    "conexion.commit()\n",
    "conexion.close()"
   ]
  },
  {
   "cell_type": "code",
   "execution_count": 4,
   "metadata": {},
   "outputs": [],
   "source": [
    "conexion = sqlite3.connect(\"Ejemplo2.db\")\n",
    "cursor = conexion.cursor()\n",
    "#NO SE OLVIDEN EL WHERE\n",
    "cursor.execute(\"DELETE FROM Ejemplo WHERE años='21'\")\n",
    "conexion.commit()\n",
    "conexion.close()"
   ]
  },
  {
   "cell_type": "code",
   "execution_count": 13,
   "metadata": {},
   "outputs": [
    {
     "name": "stdout",
     "output_type": "stream",
     "text": [
      "[('Juan', 21, 'Intermedio')]\n"
     ]
    }
   ],
   "source": [
    "conexion = sqlite3.connect(\"Ejemplo2.db\")\n",
    "cursor = conexion.cursor()\n",
    "cursor.execute(\"SELECT * FROM Ejemplo\")\n",
    "todo = cursor.fetchall()\n",
    "conexion.commit()\n",
    "conexion.close()\n",
    "print(todo)"
   ]
  },
  {
   "cell_type": "code",
   "execution_count": 6,
   "metadata": {},
   "outputs": [],
   "source": [
    "conexion = sqlite3.connect(\"Ejemplo2.db\")\n",
    "cursor = conexion.cursor()\n",
    "cursor.execute(\"UPDATE Ejemplo SET nombre='Manuel' WHERE años='21'\")\n",
    "conexion.commit()\n",
    "conexion.close()"
   ]
  }
 ],
 "metadata": {
  "kernelspec": {
   "display_name": "Python 3",
   "language": "python",
   "name": "python3"
  },
  "language_info": {
   "codemirror_mode": {
    "name": "ipython",
    "version": 3
   },
   "file_extension": ".py",
   "mimetype": "text/x-python",
   "name": "python",
   "nbconvert_exporter": "python",
   "pygments_lexer": "ipython3",
   "version": "3.7.7"
  }
 },
 "nbformat": 4,
 "nbformat_minor": 4
}