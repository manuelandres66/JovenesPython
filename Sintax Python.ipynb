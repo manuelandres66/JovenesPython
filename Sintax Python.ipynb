{
 "cells": [
  {
   "cell_type": "code",
   "execution_count": 16,
   "metadata": {},
   "outputs": [
    {
     "name": "stdout",
     "output_type": "stream",
     "text": [
      "Hola!\n"
     ]
    }
   ],
   "source": [
    "a = \"Hola!\"\n",
    "print(a)"
   ]
  },
  {
   "cell_type": "code",
   "execution_count": 32,
   "metadata": {},
   "outputs": [
    {
     "data": {
      "text/plain": [
       "str"
      ]
     },
     "execution_count": 32,
     "metadata": {},
     "output_type": "execute_result"
    }
   ],
   "source": [
    "type(\"Hola\")"
   ]
  },
  {
   "cell_type": "markdown",
   "metadata": {},
   "source": [
    "# Sentencia IF\n",
    "#### Si la comprobación es verdadera, ejecuta su codigo debajo\n",
    "## Elif\n",
    "#### Si el primer if no fue verdadero comprueba que esta comprobación sea vedadera\n",
    "## Else\n",
    "#### Si ninguna de las comprobaciones elif o if fue verdadera ejecuta su codigo"
   ]
  },
  {
   "cell_type": "code",
   "execution_count": 46,
   "metadata": {},
   "outputs": [
    {
     "name": "stdout",
     "output_type": "stream",
     "text": [
      "A es mayor que B\n"
     ]
    }
   ],
   "source": [
    "a = 10\n",
    "b = 4\n",
    "\n",
    "if a > b:\n",
    "    print(\"A es mayor que B\")\n",
    "\n",
    "elif a == b:\n",
    "    print(\"A es igual a B\")\n",
    "\n",
    "else:\n",
    "    print(\"A es menor que B\")"
   ]
  },
  {
   "cell_type": "markdown",
   "metadata": {},
   "source": [
    "# While\n",
    "####  Mientras su comprobacion sea verdadera ejecuta su codigo, a excepcion de que se detenga con un break"
   ]
  },
  {
   "cell_type": "code",
   "execution_count": 47,
   "metadata": {},
   "outputs": [
    {
     "name": "stdout",
     "output_type": "stream",
     "text": [
      "10\n",
      "9\n",
      "8\n",
      "7\n"
     ]
    }
   ],
   "source": [
    "while a > b:\n",
    "    print(a)\n",
    "    if a == 7:\n",
    "        break\n",
    "    a -= 1"
   ]
  },
  {
   "cell_type": "markdown",
   "metadata": {},
   "source": [
    "# For\n",
    "#### Recorre una lista que le demos, determinando una variable que corresponde a el valor de la lista en concreto"
   ]
  },
  {
   "cell_type": "code",
   "execution_count": 55,
   "metadata": {},
   "outputs": [
    {
     "name": "stdout",
     "output_type": "stream",
     "text": [
      "No hay 12\n",
      "No hay 12\n",
      "No hay 12\n",
      "No hay 12\n",
      "No hay 12\n"
     ]
    }
   ],
   "source": [
    "for elemento in lista:\n",
    "    if elemento == 12:\n",
    "        print(\"hay un elemento de valor 12\")\n",
    "    else:\n",
    "        print(\"No hay 12\")"
   ]
  },
  {
   "cell_type": "markdown",
   "metadata": {},
   "source": [
    "# Lista\n",
    "Una lista guarda varios valores, que pueden ser de distinto tipo y pueden ser modificadas a nuestro gusto\n",
    "\n",
    "### Slicing\n",
    "Obtener el valor de una lista, ponemos modificarlo y tambien podemos obtener un rango\n",
    "\n",
    "### Append\n",
    "Que introduce un valor al final de la lista"
   ]
  },
  {
   "cell_type": "code",
   "execution_count": 67,
   "metadata": {},
   "outputs": [
    {
     "name": "stdout",
     "output_type": "stream",
     "text": [
      "['Hola', 11, 15]\n"
     ]
    }
   ],
   "source": [
    "lista = [\"Hola\", 11, 15, 17, \"Hola!\"]\n",
    "print(lista[:-2])"
   ]
  },
  {
   "cell_type": "code",
   "execution_count": 70,
   "metadata": {},
   "outputs": [
    {
     "name": "stdout",
     "output_type": "stream",
     "text": [
      "[1, 2, 3, 4, 5, 6, 8]\n"
     ]
    }
   ],
   "source": [
    "lista = [1, 2, 3, 4, 5, 6]\n",
    "lista.append(5)\n",
    "lista[-1] = 8\n",
    "print(lista)"
   ]
  },
  {
   "cell_type": "code",
   "execution_count": 83,
   "metadata": {},
   "outputs": [
    {
     "data": {
      "text/plain": [
       "[2, 3, 4, 5, 6, 8]"
      ]
     },
     "execution_count": 83,
     "metadata": {},
     "output_type": "execute_result"
    }
   ],
   "source": [
    "lista.pop(0)\n",
    "lista"
   ]
  },
  {
   "cell_type": "markdown",
   "metadata": {},
   "source": [
    "# Tuplas\n",
    "Son como las listas pero no se pueden modificar una vez son declaradas"
   ]
  },
  {
   "cell_type": "code",
   "execution_count": 72,
   "metadata": {},
   "outputs": [
    {
     "data": {
      "text/plain": [
       "1"
      ]
     },
     "execution_count": 72,
     "metadata": {},
     "output_type": "execute_result"
    }
   ],
   "source": [
    "tuplas = (1, 2, 3, 4, 5, 6)\n",
    "tuplas[0]"
   ]
  },
  {
   "cell_type": "markdown",
   "metadata": {},
   "source": [
    "# Diccionario\n",
    "Un diccionario correlaciona dos valores, es modificable, y sirve para hacer slicing con un valor"
   ]
  },
  {
   "cell_type": "code",
   "execution_count": 81,
   "metadata": {},
   "outputs": [
    {
     "name": "stdout",
     "output_type": "stream",
     "text": [
      "{'Azul': 'blue', 'Verde': 'green', 'Rosa': 'Pink'}\n"
     ]
    }
   ],
   "source": [
    "diccionario = {\"Azul\" : \"blue\", \"Verde\" : \"Green\", \"Rosa\" : \"Pink\"} \n",
    "diccionario[\"Verde\"] = \"green\"\n",
    "print(diccionario)"
   ]
  },
  {
   "cell_type": "markdown",
   "metadata": {},
   "source": [
    "# Conversores\n",
    "Convierten de un tipo de valor a otro"
   ]
  },
  {
   "cell_type": "code",
   "execution_count": 106,
   "metadata": {},
   "outputs": [
    {
     "name": "stdout",
     "output_type": "stream",
     "text": [
      "<class 'str'> <class 'int'> <class 'float'>\n"
     ]
    }
   ],
   "source": [
    "a = str(3)\n",
    "b = int(\"13\")\n",
    "c = float(\"14.5\")\n",
    "print(type(a), type(b), type(c))"
   ]
  },
  {
   "cell_type": "markdown",
   "metadata": {},
   "source": [
    "# Input\n",
    "Devuelve los valores dados por consola, como cadenas de texto"
   ]
  },
  {
   "cell_type": "code",
   "execution_count": 89,
   "metadata": {},
   "outputs": [],
   "source": [
    "nombres = []"
   ]
  },
  {
   "cell_type": "code",
   "execution_count": 111,
   "metadata": {},
   "outputs": [
    {
     "name": "stdout",
     "output_type": "stream",
     "text": [
      "Edad: 15.2\n",
      "['Manuel', 'Juan', 'Elton', '13', 45, 6, 15.2]\n"
     ]
    }
   ],
   "source": [
    "a = float(input(\"Edad: \"))\n",
    "nombres.append(a)\n",
    "print(nombres)"
   ]
  },
  {
   "cell_type": "code",
   "execution_count": 113,
   "metadata": {},
   "outputs": [
    {
     "data": {
      "text/plain": [
       "135"
      ]
     },
     "execution_count": 113,
     "metadata": {},
     "output_type": "execute_result"
    }
   ],
   "source": [
    "nombres[4] * 3"
   ]
  },
  {
   "cell_type": "markdown",
   "metadata": {},
   "source": [
    "# Tarea para la casa\n",
    "* Construir un pequeño programa que le ingresemos con dos input, la edad y el nombre, y lo guarde en una lista"
   ]
  }
 ],
 "metadata": {
  "kernelspec": {
   "display_name": "Python 3",
   "language": "python",
   "name": "python3"
  },
  "language_info": {
   "codemirror_mode": {
    "name": "ipython",
    "version": 3
   },
   "file_extension": ".py",
   "mimetype": "text/x-python",
   "name": "python",
   "nbconvert_exporter": "python",
   "pygments_lexer": "ipython3",
   "version": "3.7.7"
  }
 },
 "nbformat": 4,
 "nbformat_minor": 4
}
